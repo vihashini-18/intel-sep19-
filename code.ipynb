{
 "cells": [
  {
   "cell_type": "code",
   "execution_count": 4,
   "id": "a662adc6",
   "metadata": {},
   "outputs": [],
   "source": [
    "import matplotlib.pyplot as plt"
   ]
  },
  {
   "cell_type": "code",
   "execution_count": 3,
   "id": "87586b5a",
   "metadata": {},
   "outputs": [],
   "source": [
    "import tensorflow as tf\n",
    "from tensorflow.keras.preprocessing.image import ImageDataGenerator\n",
    "from tensorflow.keras import models,layers\n"
   ]
  },
  {
   "cell_type": "code",
   "execution_count": null,
   "id": "8e021455",
   "metadata": {},
   "outputs": [],
   "source": [
    "\n",
    "train_dir = \"seg_train\"\n",
    "test_dir = \"seg_test\"\n",
    "pred_dir = \"seg_pred\"\n",
    "\n",
    "img_size = (150, 150)  \n",
    "batch_size = 32        \n"
   ]
  },
  {
   "cell_type": "code",
   "execution_count": null,
   "id": "aa891b3f",
   "metadata": {},
   "outputs": [],
   "source": [
    "\n",
    "train_datagen = ImageDataGenerator(\n",
    "    rescale=1./255,        \n",
    "    rotation_range=20,     \n",
    "    width_shift_range=0.2, \n",
    "    height_shift_range=0.2,\n",
    "    zoom_range=0.2,        \n",
    "    shear_range=0.2,       \n",
    "    horizontal_flip=True   \n",
    ")\n"
   ]
  },
  {
   "cell_type": "code",
   "execution_count": null,
   "id": "224c69d0",
   "metadata": {},
   "outputs": [],
   "source": [
    "test_datagen = ImageDataGenerator(rescale=1./255)"
   ]
  },
  {
   "cell_type": "code",
   "execution_count": null,
   "id": "8bb6b935",
   "metadata": {},
   "outputs": [],
   "source": [
    "train_gen = train_datagen.flow_from_directory(\n",
    "    train_dir,\n",
    "    target_size=img_size,\n",
    "    batch_size=batch_size,\n",
    "    class_mode=\"categorical\"\n",
    ")"
   ]
  },
  {
   "cell_type": "code",
   "execution_count": null,
   "id": "d32030f4",
   "metadata": {},
   "outputs": [],
   "source": [
    "test_gen = test_datagen.flow_from_directory(\n",
    "    test_dir,\n",
    "    target_size=img_size,\n",
    "    batch_size=batch_size,\n",
    "    class_mode=\"categorical\"\n",
    ")"
   ]
  },
  {
   "cell_type": "code",
   "execution_count": null,
   "id": "fc920287",
   "metadata": {},
   "outputs": [],
   "source": [
    "import os\n",
    "\n",
    "\n",
    "train_dir = \"seg_train\"\n",
    "test_dir = \"seg_test\"\n",
    "\n",
    "def count_images(directory):\n",
    "    for class_name in os.listdir(directory):\n",
    "        class_path = os.path.join(directory, class_name)\n",
    "        if os.path.isdir(class_path):\n",
    "            num_images = len(os.listdir(class_path))\n",
    "            print(f\"{directory}/{class_name}: {num_images} images\")\n",
    "\n",
    "print(\"Training Set:\")\n",
    "count_images(train_dir)\n",
    "\n",
    "print(\"Test Set:\")\n",
    "count_images(test_dir)"
   ]
  },
  {
   "cell_type": "code",
   "execution_count": null,
   "id": "da395f98",
   "metadata": {},
   "outputs": [],
   "source": [
    "model = models.Sequential()\n",
    "\n",
    "\n",
    "model.add(layers.Conv2D(32, (3,3), activation=\"relu\", input_shape=(150,150,3)))\n",
    "model.add(layers.MaxPooling2D(2,2))\n",
    "\n",
    "model.add(layers.Conv2D(64, (3,3), activation=\"relu\"))\n",
    "model.add(layers.MaxPooling2D(2,2))\n",
    "\n",
    "\n",
    "model.add(layers.Conv2D(128, (3,3), activation=\"relu\"))\n",
    "model.add(layers.MaxPooling2D(2,2))\n",
    "\n",
    "model.add(layers.Flatten())\n",
    "model.add(layers.Dense(256, activation=\"relu\"))\n",
    "model.add(layers.Dropout(0.5))\n",
    "model.add(layers.Dense(train_gen.num_classes, activation=\"softmax\"))\n"
   ]
  },
  {
   "cell_type": "code",
   "execution_count": null,
   "id": "99c8e696",
   "metadata": {},
   "outputs": [],
   "source": [
    "model.compile(\n",
    "    optimizer=\"adam\", \n",
    "    loss=\"categorical_crossentropy\", \n",
    "    metrics=[\"accuracy\"]\n",
    ")\n"
   ]
  },
  {
   "cell_type": "code",
   "execution_count": null,
   "id": "f37ea58c",
   "metadata": {},
   "outputs": [],
   "source": [
    "history = model.fit(\n",
    "    train_gen,\n",
    "    validation_data=test_gen,\n",
    "    epochs=10\n",
    ")\n"
   ]
  },
  {
   "cell_type": "code",
   "execution_count": null,
   "id": "9a982d08",
   "metadata": {},
   "outputs": [],
   "source": [
    "plt.plot(history.history[\"accuracy\"], label=\"Train Accuracy\")\n",
    "plt.plot(history.history[\"val_accuracy\"], label=\"Validation Accuracy\")\n",
    "plt.xlabel(\"Epochs\")\n",
    "plt.ylabel(\"Accuracy\")\n",
    "plt.legend()\n",
    "plt.show()\n"
   ]
  },
  {
   "cell_type": "code",
   "execution_count": null,
   "id": "8e50285f",
   "metadata": {},
   "outputs": [],
   "source": [
    "loss, acc = model.evaluate(test_gen)\n",
    "print(f\"Test Accuracy: {acc:.2f}\")\n"
   ]
  },
  {
   "cell_type": "code",
   "execution_count": null,
   "id": "156bdb04",
   "metadata": {},
   "outputs": [],
   "source": [
    "pred_gen = test_datagen.flow_from_directory(\n",
    "    pred_dir,\n",
    "    target_size=img_size,\n",
    "    batch_size=1,\n",
    "    class_mode=None,\n",
    "    shuffle=False)\n",
    "\n",
    "predictions = model.predict(pred_gen)\n",
    "predicted_classes = predictions.argmax(axis=-1)\n",
    "\n",
    "\n",
    "labels = list(train_gen.class_indices.keys())\n",
    "predicted_labels = [labels[i] for i in predicted_classes]\n",
    "\n",
    "print(\"Sample Predictions:\", predicted_labels[:10])\n"
   ]
  },
  {
   "cell_type": "code",
   "execution_count": null,
   "id": "0140138a",
   "metadata": {},
   "outputs": [],
   "source": [
    "from sklearn.metrics import classification_report, confusion_matrix\n",
    "import numpy as np\n",
    "import matplotlib.pyplot as plt\n",
    "import seaborn as sns\n",
    "\n",
    "\n",
    "test_gen.reset()  \n",
    "Y_pred = model.predict(test_gen, verbose=1)\n",
    "y_pred = np.argmax(Y_pred, axis=1)\n",
    "\n",
    "y_true = test_gen.classes\n",
    "\n",
    "\n",
    "class_labels = list(test_gen.class_indices.keys())\n",
    "\n",
    "\n",
    "cm = confusion_matrix(y_true, y_pred)\n",
    "\n",
    "plt.figure(figsize=(10,8))\n",
    "sns.heatmap(cm, annot=True, fmt=\"d\", xticklabels=class_labels, yticklabels=class_labels, cmap=\"Blues\")\n",
    "plt.ylabel('Actual')\n",
    "plt.xlabel('Predicted')\n",
    "plt.title('Confusion Matrix')\n",
    "plt.show()\n",
    "\n",
    "\n",
    "report = classification_report(y_true, y_pred, target_names=class_labels)\n",
    "print(\"Classification Report:\\n\", report)\n"
   ]
  },
  {
   "cell_type": "code",
   "execution_count": null,
   "id": "f1e06fd0",
   "metadata": {},
   "outputs": [],
   "source": [
    "import matplotlib.pyplot as plt\n",
    "import numpy as np\n",
    "\n",
    "\n",
    "for i in range(3,9):\n",
    "    img= next(pred_gen)  \n",
    "    plt.imshow(img[0])\n",
    "    plt.axis(\"off\")\n",
    "    plt.show()\n",
    "\n",
    "    pred = model.predict(img)\n",
    "    pred_class = labels[np.argmax(pred)]\n",
    "    print(\"Predicted:\", pred_class)\n"
   ]
  },
  {
   "cell_type": "code",
   "execution_count": null,
   "id": "cfc2ce52",
   "metadata": {},
   "outputs": [],
   "source": [
    "import numpy as np\n",
    "from collections import Counter\n",
    "\n",
    "counts = Counter(predicted_labels)\n",
    "print(\"Prediction Counts:\")\n",
    "for label, count in counts.items():\n",
    "    print(f\"{label}: {count}\")\n"
   ]
  }
 ],
 "metadata": {
  "language_info": {
   "name": "python"
  }
 },
 "nbformat": 4,
 "nbformat_minor": 5
}
